{
 "cells": [
  {
   "cell_type": "markdown",
   "id": "cabb68f6",
   "metadata": {},
   "source": [
    "Persian Handwriting K-Means"
   ]
  },
  {
   "cell_type": "markdown",
   "id": "9efadb11",
   "metadata": {},
   "source": []
  },
  {
   "cell_type": "code",
   "execution_count": 1,
   "id": "3bc76eac",
   "metadata": {},
   "outputs": [],
   "source": [
    "# Import Libraries\n",
    "import matplotlib.pyplot as plt\n",
    "import matplotlib\n",
    "import numpy as np\n",
    "import scipy.io\n",
    "import cv2\n"
   ]
  },
  {
   "cell_type": "code",
   "execution_count": 2,
   "id": "ae11cb85",
   "metadata": {},
   "outputs": [
    {
     "name": "stdout",
     "output_type": "stream",
     "text": [
      "yy : 2005\n",
      "m : 8\n",
      "d :  4\n",
      "20000\n"
     ]
    }
   ],
   "source": [
    "import struct\n",
    "\n",
    "with open('dataset/Test_20000.cdb', 'rb') as binary_file:\n",
    "\n",
    "        data = binary_file.read()\n",
    "\n",
    "        offset = 0\n",
    "\n",
    "        # read private header\n",
    "\n",
    "        yy = struct.unpack_from('H', data, offset)[0]\n",
    "        print(\"yy :\",yy)\n",
    "        offset += 2\n",
    "        \n",
    "        m = struct.unpack_from('B', data, offset)[0]\n",
    "        print(\"m :\",m)\n",
    "        offset += 1\n",
    "\n",
    "        d = struct.unpack_from('B', data, offset)[0]\n",
    "        print(\"d : \", d)\n",
    "        offset += 1\n",
    "\n",
    "        H = struct.unpack_from('B', data, offset)[0]\n",
    "        offset += 1\n",
    "\n",
    "        W = struct.unpack_from('B', data, offset)[0]\n",
    "        offset += 1\n",
    "\n",
    "        TotalRec = struct.unpack_from('I', data, offset)[0]\n",
    "        print(TotalRec)\n",
    "        offset += 4\n",
    "\n",
    "        LetterCount = struct.unpack_from('128I', data, offset)\n",
    "        offset += 128 * 4\n",
    "\n",
    "        imgType = struct.unpack_from('B', data, offset)[0]  # 0: binary, 1: gray\n",
    "        offset += 1\n",
    "\n",
    "        Comments = struct.unpack_from('256c', data, offset)        \n",
    "        offset += 256 * 1\n",
    "\n",
    "        Reserved = struct.unpack_from('245c', data, offset)\n",
    "        offset += 245 * 1\n",
    "\n",
    "        if (W > 0) and (H > 0):\n",
    "            normal = True\n",
    "        else:\n",
    "            normal = False\n",
    "        \n",
    "        images = []\n",
    "        labels = []\n",
    "\n",
    "        for i in range(TotalRec):\n",
    "\n",
    "            StartByte = struct.unpack_from('B', data, offset)[0]  # must be 0xff\n",
    "            offset += 1\n",
    "\n",
    "            label = struct.unpack_from('B', data, offset)[0]\n",
    "            offset += 1\n",
    "\n",
    "            if not normal:\n",
    "                W = struct.unpack_from('B', data, offset)[0]\n",
    "                offset += 1\n",
    "\n",
    "                H = struct.unpack_from('B', data, offset)[0]\n",
    "                offset += 1\n",
    "\n",
    "            ByteCount = struct.unpack_from('H', data, offset)[0]\n",
    "            offset += 2\n",
    "\n",
    "            image = np.zeros(shape=[H, W], dtype=np.uint8)\n",
    "\n",
    "            if imgType == 0:\n",
    "                # Binary\n",
    "                for y in range(H):\n",
    "                    bWhite = True\n",
    "                    counter = 0\n",
    "                    while counter < W:\n",
    "                        WBcount = struct.unpack_from('B', data, offset)[0]\n",
    "                        offset += 1\n",
    "                        # x = 0\n",
    "                        # while x < WBcount:\n",
    "                        #     if bWhite:\n",
    "                        #         image[y, x + counter] = 0  # Background\n",
    "                        #     else:\n",
    "                        #         image[y, x + counter] = 255  # ForeGround\n",
    "                        #     x += 1\n",
    "                        if bWhite:\n",
    "                            image[y, counter:counter + WBcount] = 0  # Background\n",
    "                        else:\n",
    "                            image[y, counter:counter + WBcount] = 255  # ForeGround\n",
    "                        bWhite = not bWhite  # black white black white ...\n",
    "                        counter += WBcount\n",
    "            else:\n",
    "                # GrayScale mode\n",
    "                data = struct.unpack_from('{}B'.format(W * H), data, offset)\n",
    "                offset += W * H\n",
    "                image = np.asarray(data, dtype=np.uint8).reshape([W, H]).T\n",
    "\n",
    "            images.append(image)\n",
    "            labels.append(label)\n",
    "            \n",
    "            \n",
    "            "
   ]
  },
  {
   "cell_type": "code",
   "execution_count": 3,
   "id": "392d860b",
   "metadata": {},
   "outputs": [
    {
     "name": "stdout",
     "output_type": "stream",
     "text": [
      "shape of image is :  (29, 22)\n",
      "label of image is: 7\n",
      "[[  0   0   0   0   0   0   0   0   0   0   0   0   0   0   0   0   0   0\n",
      "  255 255   0   0]\n",
      " [  0   0   0   0   0   0   0   0   0   0   0   0   0   0   0   0   0 255\n",
      "  255 255 255   0]\n",
      " [  0   0   0   0   0   0   0   0   0   0   0   0   0   0   0   0   0 255\n",
      "  255 255 255 255]\n",
      " [255 255 255   0   0   0   0   0   0   0   0   0   0   0   0   0   0 255\n",
      "  255 255 255 255]\n",
      " [255 255 255   0   0   0   0   0   0   0   0   0   0   0   0   0   0 255\n",
      "  255 255 255   0]\n",
      " [  0 255 255   0   0   0   0   0   0   0   0   0   0   0   0   0 255 255\n",
      "  255 255 255   0]\n",
      " [  0 255 255 255   0   0   0   0   0   0   0   0   0   0   0 255 255 255\n",
      "  255 255   0   0]\n",
      " [  0 255 255 255   0   0   0   0   0   0   0   0   0   0   0 255 255 255\n",
      "  255   0   0   0]\n",
      " [  0 255 255 255   0   0   0   0   0   0   0   0   0   0 255 255 255 255\n",
      "  255   0   0   0]\n",
      " [  0 255 255 255   0   0   0   0   0   0   0   0   0 255 255 255 255 255\n",
      "    0   0   0   0]\n",
      " [  0 255 255 255 255   0   0   0   0   0   0   0   0 255 255 255 255   0\n",
      "    0   0   0   0]\n",
      " [  0 255 255 255 255   0   0   0   0   0   0   0 255 255 255 255   0   0\n",
      "    0   0   0   0]\n",
      " [  0 255 255 255 255   0   0   0   0   0   0 255 255 255 255 255   0   0\n",
      "    0   0   0   0]\n",
      " [  0 255 255 255 255   0   0   0   0   0 255 255 255 255 255   0   0   0\n",
      "    0   0   0   0]\n",
      " [  0 255 255 255 255   0   0   0   0   0 255 255 255 255 255   0   0   0\n",
      "    0   0   0   0]\n",
      " [  0 255 255 255 255   0   0   0   0   0 255 255 255 255   0   0   0   0\n",
      "    0   0   0   0]\n",
      " [  0 255 255 255 255   0   0   0   0 255 255 255 255   0   0   0   0   0\n",
      "    0   0   0   0]\n",
      " [  0   0 255 255 255 255   0   0 255 255 255 255 255   0   0   0   0   0\n",
      "    0   0   0   0]\n",
      " [  0   0 255 255 255 255   0   0 255 255 255 255 255   0   0   0   0   0\n",
      "    0   0   0   0]\n",
      " [  0   0 255 255 255 255   0 255 255 255 255 255   0   0   0   0   0   0\n",
      "    0   0   0   0]\n",
      " [  0   0 255 255 255 255   0 255 255 255 255   0   0   0   0   0   0   0\n",
      "    0   0   0   0]\n",
      " [  0   0 255 255 255 255 255 255 255 255   0   0   0   0   0   0   0   0\n",
      "    0   0   0   0]\n",
      " [  0   0 255 255 255 255 255 255 255 255   0   0   0   0   0   0   0   0\n",
      "    0   0   0   0]\n",
      " [  0   0 255 255 255 255 255 255 255 255   0   0   0   0   0   0   0   0\n",
      "    0   0   0   0]\n",
      " [  0   0   0 255 255 255 255 255 255   0   0   0   0   0   0   0   0   0\n",
      "    0   0   0   0]\n",
      " [  0   0   0 255 255 255 255 255   0   0   0   0   0   0   0   0   0   0\n",
      "    0   0   0   0]\n",
      " [  0   0   0 255 255 255 255 255   0   0   0   0   0   0   0   0   0   0\n",
      "    0   0   0   0]\n",
      " [  0   0   0 255 255 255 255 255   0   0   0   0   0   0   0   0   0   0\n",
      "    0   0   0   0]\n",
      " [  0   0   0   0 255 255 255   0   0   0   0   0   0   0   0   0   0   0\n",
      "    0   0   0   0]]\n"
     ]
    },
    {
     "data": {
      "text/plain": [
       "<matplotlib.image.AxesImage at 0x7f57abf93cf8>"
      ]
     },
     "execution_count": 3,
     "metadata": {},
     "output_type": "execute_result"
    },
    {
     "data": {
      "image/png": "[encoded data removed]",
      "text/plain": [
       "<Figure size 432x288 with 1 Axes>"
      ]
     },
     "metadata": {
      "needs_background": "light"
     },
     "output_type": "display_data"
    }
   ],
   "source": [
    "im=15000\n",
    "\n",
    "l=labels[im]\n",
    "z=images[im]\n",
    "print(\"shape of image is : \" ,z.shape)\n",
    "print(\"label of image is:\",l)\n",
    "print(z)\n",
    "plt.imshow(z)"
   ]
  },
  {
   "cell_type": "code",
   "execution_count": 4,
   "id": "145d0a2d",
   "metadata": {},
   "outputs": [],
   "source": [
    "\n",
    "def __convert_to_one_hot(vector, num_classes):\n",
    "    result = np.zeros(shape=[len(vector), num_classes])\n",
    "    result[np.arange(len(vector)), vector] = 1\n",
    "    return result\n",
    "\n",
    "\n",
    "def __resize_image(src_image, dst_image_height, dst_image_width):\n",
    "    src_image_height = src_image.shape[0]\n",
    "    src_image_width = src_image.shape[1]\n",
    "\n",
    "    if src_image_height > dst_image_height or src_image_width > dst_image_width:\n",
    "        height_scale = dst_image_height / src_image_height\n",
    "        width_scale = dst_image_width / src_image_width\n",
    "        scale = min(height_scale, width_scale)\n",
    "        img = cv2.resize(src=src_image, dsize=(0, 0), fx=scale, fy=scale, interpolation=cv2.INTER_CUBIC)\n",
    "    else:\n",
    "        img = src_image\n",
    "\n",
    "    img_height = img.shape[0]\n",
    "    img_width = img.shape[1]\n",
    "\n",
    "    dst_image = np.zeros(shape=[dst_image_height, dst_image_width], dtype=np.uint8)\n",
    "\n",
    "    y_offset = (dst_image_height - img_height) // 2\n",
    "    x_offset = (dst_image_width - img_width) // 2\n",
    "\n",
    "    dst_image[y_offset:y_offset+img_height, x_offset:x_offset+img_width] = img\n",
    "\n",
    "    return dst_image\n",
    "\n",
    "\n",
    "\n",
    "images_height=32\n",
    "images_width=32\n",
    "one_hot=False\n",
    "reshape=True\n",
    "    \n",
    "assert len(images) == len(labels)\n",
    "\n",
    "X = np.zeros(shape=[len(images), images_height, images_width], dtype=np.float32)\n",
    "Y = np.zeros(shape=[len(labels)], dtype=np.int)\n",
    "\n",
    "for i in range(len(images)):\n",
    "    image = images[i]\n",
    "    # Image resizing.\n",
    "    image = __resize_image(src_image=image, dst_image_height=images_height, dst_image_width=images_width)\n",
    "    # Image normalization.\n",
    "    image = image / 255\n",
    "    # Image binarization.\n",
    "    image = np.where(image >= 0.5, 1, 0)\n",
    "    # Image.\n",
    "    X[i] = image\n",
    "    # Label.\n",
    "    Y[i] = labels[i]\n",
    "\n",
    "if one_hot:\n",
    "    Y = __convert_to_one_hot(Y, 10).astype(dtype=np.float32)\n",
    "else:\n",
    "    Y = Y.astype(dtype=np.float32)\n",
    "\n",
    "# if reshape:\n",
    "#     X = X.reshape(-1, images_height * images_width)\n",
    "# else:\n",
    "#     X = X.reshape(-1, images_height, images_width, 1)\n",
    "\n"
   ]
  },
  {
   "cell_type": "code",
   "execution_count": 5,
   "id": "0e6b565f",
   "metadata": {},
   "outputs": [
    {
     "name": "stdout",
     "output_type": "stream",
     "text": [
      "(32, 32)\n"
     ]
    },
    {
     "data": {
      "text/plain": [
       "<matplotlib.image.AxesImage at 0x7f579f07d860>"
      ]
     },
     "execution_count": 5,
     "metadata": {},
     "output_type": "execute_result"
    },
    {
     "data": {
      "image/png": "[encoded data removed]",
      "text/plain": [
       "<Figure size 432x288 with 1 Axes>"
      ]
     },
     "metadata": {
      "needs_background": "light"
     },
     "output_type": "display_data"
    }
   ],
   "source": [
    "xx=X[15000]\n",
    "print(xx.shape)\n",
    "plt.imshow(xx)"
   ]
  },
  {
   "cell_type": "code",
   "execution_count": null,
   "id": "d2891a83",
   "metadata": {},
   "outputs": [],
   "source": []
  },
  {
   "cell_type": "code",
   "execution_count": null,
   "id": "8d709647",
   "metadata": {},
   "outputs": [],
   "source": []
  }
 ],
 "metadata": {
  "kernelspec": {
   "display_name": "Python 3",
   "language": "python",
   "name": "python3"
  },
  "language_info": {
   "codemirror_mode": {
    "name": "ipython",
    "version": 3
   },
   "file_extension": ".py",
   "mimetype": "text/x-python",
   "name": "python",
   "nbconvert_exporter": "python",
   "pygments_lexer": "ipython3",
   "version": "3.6.15"
  }
 },
 "nbformat": 4,
 "nbformat_minor": 5
}
